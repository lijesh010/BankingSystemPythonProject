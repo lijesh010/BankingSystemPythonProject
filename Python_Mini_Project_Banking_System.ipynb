{
 "cells": [
  {
   "cell_type": "markdown",
   "id": "4665564b",
   "metadata": {},
   "source": [
    "# Python - Mini Project\n",
    "# Banking System"
   ]
  },
  {
   "cell_type": "code",
   "execution_count": 2,
   "id": "61b67c43",
   "metadata": {},
   "outputs": [
    {
     "name": "stdout",
     "output_type": "stream",
     "text": [
      "Please enter your banking name:lijesh\n",
      "Please enter your passwordL123456#\n",
      "Please enter your Account number:112233123\n",
      "Hi, Lijesh\n",
      "Welcome to Kerala Gramin Bank\n",
      "Choose options,\n",
      "      1 for Deposit.\n",
      "      2 for withdrawal\n",
      "      3 for check balance\n",
      "      \n",
      "Enter your choice:1\n",
      "Enter the amount to deposit:100\n",
      "Deposit successful.\n",
      "Your updated balance is: 54467.34\n",
      "***Thank you for Banking with us***\n",
      "***Have a Nice day***\n"
     ]
    }
   ],
   "source": [
    "user=input(\"Please enter your banking name:\")\n",
    "user_name=user.capitalize()\n",
    "password=input(\"Please enter your password\")\n",
    "acc_no=int(input(\"Please enter your Account number:\"))\n",
    "\n",
    "user_name_list=[\"Lijesh\",\"Amal\",\"Kiran\",\"Fathima\"]\n",
    "pass_dict={'Lijesh':'L123456#','Amal':'Amal12#','Kiran':'Admin@123','Fathima':'Applemango#'}\n",
    "acc_list=[112233123,112233124,112233125,112233126]\n",
    "balance={\"Lijesh\":54367.34,\"Amal\":15890.11,\"Kiran\":2790.45,\"Fathima\":129870.75}\n",
    "\n",
    "if user_name in user_name_list:\n",
    "  if password == pass_dict[user_name]:\n",
    "    if acc_no in acc_list:\n",
    "      print(\"Hi,\",user_name)\n",
    "      print(\"Welcome to Kerala Gramin Bank\")\n",
    "      print(\"\"\"Choose options,\n",
    "      1 for Deposit.\n",
    "      2 for withdrawal\n",
    "      3 for check balance\n",
    "      \"\"\")\n",
    "      choice=int(input(\"Enter your choice:\"))\n",
    "\n",
    "      if choice==1:\n",
    "        deposit_amnt=float(input(\"Enter the amount to deposit:\"))\n",
    "        if deposit_amnt>0:\n",
    "          balance[user_name]+=deposit_amnt\n",
    "          print(\"Deposit successful.\")\n",
    "          print(\"Your updated balance is:\",balance[user_name])\n",
    "        else:\n",
    "          print(\"Invalid amount entered. Please enter a positive value.\")\n",
    "        print(\"***Thank you for Banking with us***\")\n",
    "        print(\"***Have a Nice day***\")\n",
    "\n",
    "      elif choice==2:\n",
    "        withdraw_amnt=float(input(\"Enter the amount to withdraw:\"))\n",
    "        if withdraw_amnt>0:\n",
    "          if withdraw_amnt<=balance[user_name]:\n",
    "            balance[user_name]-=withdraw_amnt\n",
    "            print(\"Withdrawal successful.\")\n",
    "            print(\"Your updated balance is:\",balance[user_name])\n",
    "          else:\n",
    "            print(\"Insufficient balance. Please try again.\")\n",
    "        else:\n",
    "          print(\"Invalid amount entered. Please enter a positive value.\")\n",
    "        print(\"***Thank you for Banking with us***\")\n",
    "        print(\"***Have a Nice day***\")\n",
    "\n",
    "      elif choice==3:\n",
    "        print(\"Your balance is:\",balance[user_name])\n",
    "        print(\"***Thank you for Banking with us***\")\n",
    "        print(\"***Have a Nice day***\")\n",
    "\n",
    "      else:\n",
    "        print(\"Invalid choice entered. Please try again.\")\n",
    "\n",
    "    else:\n",
    "      print(\"Invalid account number entered. Please try again.\")\n",
    "  else:\n",
    "    print(\"Invalid password entered. Please try again.\")\n",
    "else:\n",
    "  print(\"Invalid username entered. Please try again.\")"
   ]
  },
  {
   "cell_type": "code",
   "execution_count": null,
   "id": "1c274101",
   "metadata": {},
   "outputs": [],
   "source": []
  }
 ],
 "metadata": {
  "kernelspec": {
   "display_name": "Python 3 (ipykernel)",
   "language": "python",
   "name": "python3"
  },
  "language_info": {
   "codemirror_mode": {
    "name": "ipython",
    "version": 3
   },
   "file_extension": ".py",
   "mimetype": "text/x-python",
   "name": "python",
   "nbconvert_exporter": "python",
   "pygments_lexer": "ipython3",
   "version": "3.9.13"
  }
 },
 "nbformat": 4,
 "nbformat_minor": 5
}
